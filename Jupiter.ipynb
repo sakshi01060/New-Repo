{
 "cells": [
  {
   "cell_type": "code",
   "execution_count": null,
   "id": "418be54f",
   "metadata": {},
   "outputs": [
    {
     "name": "stdout",
     "output_type": "stream",
     "text": [
      "Error fetching weather data: 401\n"
     ]
    }
   ],
   "source": []
  },
  {
   "cell_type": "code",
   "execution_count": 3,
   "id": "3fa2a517",
   "metadata": {},
   "outputs": [
    {
     "name": "stdout",
     "output_type": "stream",
     "text": [
      "{'location': {'name': 'New Delhi', 'region': 'Delhi', 'country': 'India', 'lat': 28.6, 'lon': 77.2, 'tz_id': 'Asia/Kolkata', 'localtime_epoch': 1757779452, 'localtime': '2025-09-13 21:34'}, 'alerts': {'alert': []}}\n"
     ]
    }
   ],
   "source": [
    "import requests\n",
    "\n",
    "city_name = (\"New Delhi\")\n",
    "\n",
    "API_Key = \"6c95410239msh6901ad4bccd5692p116e14jsn89c74385f4ab\"\n",
    "url = \"https://weatherapi-com.p.rapidapi.com/alerts.json\"\n",
    "\n",
    "headers = {\n",
    "    \"X-RapidAPI-Key\": API_Key,\n",
    "    \"X-RapidAPI-Host\": \"weatherapi-com.p.rapidapi.com\"\n",
    "}\n",
    "\n",
    "params = {\"q\": city_name}\n",
    "\n",
    "response = requests.get(url, headers=headers, params=params)\n",
    "\n",
    "data = response.json()\n",
    "print(data)"
   ]
  }
 ],
 "metadata": {
  "kernelspec": {
   "display_name": "Python 3",
   "language": "python",
   "name": "python3"
  },
  "language_info": {
   "codemirror_mode": {
    "name": "ipython",
    "version": 3
   },
   "file_extension": ".py",
   "mimetype": "text/x-python",
   "name": "python",
   "nbconvert_exporter": "python",
   "pygments_lexer": "ipython3",
   "version": "3.13.7"
  }
 },
 "nbformat": 4,
 "nbformat_minor": 5
}
